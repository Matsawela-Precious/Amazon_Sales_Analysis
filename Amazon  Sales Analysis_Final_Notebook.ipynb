{
 "cells": [
  {
   "cell_type": "markdown",
   "id": "8fa4cb0b-18fe-4362-9356-99c24dbcbf63",
   "metadata": {},
   "source": [
    "<a id=\"cont\"></a>\n",
    "\n",
    "## Table of Contents\n",
    "\n",
    "<a href=#one>1. Project Overview</a>\n",
    "\n",
    "<a href=#two>2. Import Packages and Loading Data</a>\n",
    "\n",
    "<a href=#three>3. Exploring Data </a>\n",
    "\n",
    "<a href=#four>4. Exploratory Data Analysis (EDA)</a>\n",
    "\n",
    "<a href=#five>5. Pre-Processing and Cleaning Data</a>\n",
    "\n",
    "<a href=#six>6. Modeling</a>\n",
    "\n",
    "<a href=#seven>7. Model Evaluation and Conclusions</a>"
   ]
  },
  {
   "cell_type": "markdown",
   "id": "d667fca7-bb03-4042-b736-09657e9306d2",
   "metadata": {},
   "source": [
    " <a id=\"one\"></a>\n",
    "## 1. Project Overview\n",
    "\n",
    "\n",
    "**Objective:** In today's competitive landscape, effective sales management is crucial for optimizing distribution channels, reducing costs, and maximizing profits.\n",
    "\n",
    "This project focused on analyzing sales and revenue trends to provide data-driven insights for informed decision-making. Through data analysis, visualization, and the development of a comprehensive dashboard, we aimed to enhance the company's ability to identify key markets and improve overall sales performance and revenue growth."
   ]
  },
  {
   "cell_type": "markdown",
   "id": "b673d4fa-a517-4d13-80d3-4f695e8b89b5",
   "metadata": {},
   "source": [
    "### **Problem Statement**\n",
    "\n",
    "As competition intensifies and businesses strive to optimize operations, managing sales effectively has become more critical than ever. Companies need to identify key markets and understand sales performance trends to remain competitive and drive revenue growth. However, without clear insights into sales and revenue data, decision-makers face challenges in optimizing distribution, reducing costs, and increasing profitability. This project seeks to address these challenges by leveraging data analysis and visualization to uncover actionable insights, enabling more informed, data-driven decisions for improving sales and revenue performance.\n",
    "\n",
    "\n",
    "### **Sales Transactions Data Summary (2019)**\n",
    "\n",
    "This notebook provides an overview of a sales transaction dataset from an online electronics store. The data contains orders placed in 2019, including product details, prices, and customer purchase addresses.\n",
    "\n",
    "#### **1. Dataset Description**\n",
    "\n",
    "The dataset consists of the following columns:\n",
    "- **Order ID**: A unique identifier for each transaction.\n",
    "- **Product**: The name of the product purchased.\n",
    "- **Quantity Ordered**: Number of units ordered for the product.\n",
    "- **Price Each**: Price of a single unit of the product.\n",
    "- **Order Date**: The date and time when the order was placed.\n",
    "- **Purchase Address**: The address where the product was delivered.\n",
    "\n",
    "The data can be used to:\n",
    "- Analyze product demand and customer purchasing patterns.\n",
    "- Identify trends in sales volume over time.\n",
    "- Understand geographic patterns in purchases.\n"
   ]
  },
  {
   "cell_type": "markdown",
   "id": "04a4715f-ad71-486c-bb78-a2c03dba2f11",
   "metadata": {},
   "source": [
    " <a id=\"two\"></a>\n",
    "## 2. Importing Packages and Loading Data"
   ]
  },
  {
   "cell_type": "markdown",
   "id": "5fa56b60-f175-48ed-b37f-fa862bcdee6e",
   "metadata": {},
   "source": [
    "We read and merge CSV files for Amazon's monthly sales for 2009 into a final CSV file. We then examine the dataset so we can familiarise ourselves with the uploaded data."
   ]
  },
  {
   "cell_type": "code",
   "execution_count": 1,
   "id": "26c96f3a-b529-493d-b22c-96508f6932f9",
   "metadata": {
    "tags": []
   },
   "outputs": [
    {
     "name": "stderr",
     "output_type": "stream",
     "text": [
      "C:\\Users\\44475\\anaconda3\\lib\\site-packages\\pandas\\core\\arrays\\masked.py:60: UserWarning: Pandas requires version '1.3.6' or newer of 'bottleneck' (version '1.3.5' currently installed).\n",
      "  from pandas.core import (\n"
     ]
    }
   ],
   "source": [
    "import pandas as pd\n",
    "import os\n",
    "import glob\n",
    "\n",
    "def csvfilesReadMerge(folder_path, new_file_name):\n",
    "    \"\"\"\n",
    "    This function takes multiple CSV files with the same schema from a given folder \n",
    "    and combines them into a single large CSV file.\n",
    "    \n",
    "    Parameters:\n",
    "    folder_path (str): Absolute path of the folder where the CSV files are located.\n",
    "    new_file_name (str): The name of the final CSV file that will be created after merging.\n",
    "    \"\"\"\n",
    "    try:\n",
    "        # Search for all CSV files in the provided folder path\n",
    "        files = os.path.join(folder_path, \"*.csv\")\n",
    "        list_of_files = glob.glob(files)  # Get list of CSV files\n",
    "        \n",
    "        if not list_of_files:\n",
    "            print(\"No CSV files found in the specified folder.\")\n",
    "            return\n",
    "        \n",
    "        # Read and concatenate all CSV files\n",
    "        df = pd.concat(map(pd.read_csv, list_of_files), ignore_index=True)\n",
    "        \n",
    "        # Save the merged DataFrame to a new CSV file\n",
    "        df.to_csv(new_file_name, index=False)\n",
    "        \n",
    "        # Display success message\n",
    "        print(f\"Successfully created the file '{new_file_name}' at location:\\n{os.getcwd()}\")\n",
    "    \n",
    "    except Exception as e:\n",
    "        print(f\"An error occurred: {e}\")"
   ]
  },
  {
   "cell_type": "code",
   "execution_count": 2,
   "id": "3875d634-12a9-4b25-889e-d234721061a7",
   "metadata": {},
   "outputs": [
    {
     "name": "stdout",
     "output_type": "stream",
     "text": [
      "Successfully created the file 'AllYearSales.csv' at location:\n",
      "C:\\Users\\44475\n"
     ]
    }
   ],
   "source": [
    "csvfilesReadMerge(\"C:/Users/44475/Downloads/RawData\",\"AllYearSales.csv\")"
   ]
  },
  {
   "cell_type": "code",
   "execution_count": 3,
   "id": "834f94e3-8cd3-4422-8c0b-37a230277380",
   "metadata": {},
   "outputs": [
    {
     "data": {
      "text/html": [
       "<div>\n",
       "<style scoped>\n",
       "    .dataframe tbody tr th:only-of-type {\n",
       "        vertical-align: middle;\n",
       "    }\n",
       "\n",
       "    .dataframe tbody tr th {\n",
       "        vertical-align: top;\n",
       "    }\n",
       "\n",
       "    .dataframe thead th {\n",
       "        text-align: right;\n",
       "    }\n",
       "</style>\n",
       "<table border=\"1\" class=\"dataframe\">\n",
       "  <thead>\n",
       "    <tr style=\"text-align: right;\">\n",
       "      <th></th>\n",
       "      <th>Order ID</th>\n",
       "      <th>Product</th>\n",
       "      <th>Quantity Ordered</th>\n",
       "      <th>Price Each</th>\n",
       "      <th>Order Date</th>\n",
       "      <th>Purchase Address</th>\n",
       "    </tr>\n",
       "  </thead>\n",
       "  <tbody>\n",
       "    <tr>\n",
       "      <th>0</th>\n",
       "      <td>176558</td>\n",
       "      <td>USB-C Charging Cable</td>\n",
       "      <td>2</td>\n",
       "      <td>11.95</td>\n",
       "      <td>04/19/19 08:46</td>\n",
       "      <td>917 1st St, Dallas, TX 75001</td>\n",
       "    </tr>\n",
       "    <tr>\n",
       "      <th>1</th>\n",
       "      <td>NaN</td>\n",
       "      <td>NaN</td>\n",
       "      <td>NaN</td>\n",
       "      <td>NaN</td>\n",
       "      <td>NaN</td>\n",
       "      <td>NaN</td>\n",
       "    </tr>\n",
       "    <tr>\n",
       "      <th>2</th>\n",
       "      <td>176559</td>\n",
       "      <td>Bose SoundSport Headphones</td>\n",
       "      <td>1</td>\n",
       "      <td>99.99</td>\n",
       "      <td>04/07/19 22:30</td>\n",
       "      <td>682 Chestnut St, Boston, MA 02215</td>\n",
       "    </tr>\n",
       "    <tr>\n",
       "      <th>3</th>\n",
       "      <td>176560</td>\n",
       "      <td>Google Phone</td>\n",
       "      <td>1</td>\n",
       "      <td>600</td>\n",
       "      <td>04/12/19 14:38</td>\n",
       "      <td>669 Spruce St, Los Angeles, CA 90001</td>\n",
       "    </tr>\n",
       "    <tr>\n",
       "      <th>4</th>\n",
       "      <td>176560</td>\n",
       "      <td>Wired Headphones</td>\n",
       "      <td>1</td>\n",
       "      <td>11.99</td>\n",
       "      <td>04/12/19 14:38</td>\n",
       "      <td>669 Spruce St, Los Angeles, CA 90001</td>\n",
       "    </tr>\n",
       "    <tr>\n",
       "      <th>...</th>\n",
       "      <td>...</td>\n",
       "      <td>...</td>\n",
       "      <td>...</td>\n",
       "      <td>...</td>\n",
       "      <td>...</td>\n",
       "      <td>...</td>\n",
       "    </tr>\n",
       "    <tr>\n",
       "      <th>186845</th>\n",
       "      <td>259353</td>\n",
       "      <td>AAA Batteries (4-pack)</td>\n",
       "      <td>3</td>\n",
       "      <td>2.99</td>\n",
       "      <td>09/17/19 20:56</td>\n",
       "      <td>840 Highland St, Los Angeles, CA 90001</td>\n",
       "    </tr>\n",
       "    <tr>\n",
       "      <th>186846</th>\n",
       "      <td>259354</td>\n",
       "      <td>iPhone</td>\n",
       "      <td>1</td>\n",
       "      <td>700</td>\n",
       "      <td>09/01/19 16:00</td>\n",
       "      <td>216 Dogwood St, San Francisco, CA 94016</td>\n",
       "    </tr>\n",
       "    <tr>\n",
       "      <th>186847</th>\n",
       "      <td>259355</td>\n",
       "      <td>iPhone</td>\n",
       "      <td>1</td>\n",
       "      <td>700</td>\n",
       "      <td>09/23/19 07:39</td>\n",
       "      <td>220 12th St, San Francisco, CA 94016</td>\n",
       "    </tr>\n",
       "    <tr>\n",
       "      <th>186848</th>\n",
       "      <td>259356</td>\n",
       "      <td>34in Ultrawide Monitor</td>\n",
       "      <td>1</td>\n",
       "      <td>379.99</td>\n",
       "      <td>09/19/19 17:30</td>\n",
       "      <td>511 Forest St, San Francisco, CA 94016</td>\n",
       "    </tr>\n",
       "    <tr>\n",
       "      <th>186849</th>\n",
       "      <td>259357</td>\n",
       "      <td>USB-C Charging Cable</td>\n",
       "      <td>1</td>\n",
       "      <td>11.95</td>\n",
       "      <td>09/30/19 00:18</td>\n",
       "      <td>250 Meadow St, San Francisco, CA 94016</td>\n",
       "    </tr>\n",
       "  </tbody>\n",
       "</table>\n",
       "<p>186850 rows × 6 columns</p>\n",
       "</div>"
      ],
      "text/plain": [
       "       Order ID                     Product Quantity Ordered Price Each  \\\n",
       "0        176558        USB-C Charging Cable                2      11.95   \n",
       "1           NaN                         NaN              NaN        NaN   \n",
       "2        176559  Bose SoundSport Headphones                1      99.99   \n",
       "3        176560                Google Phone                1        600   \n",
       "4        176560            Wired Headphones                1      11.99   \n",
       "...         ...                         ...              ...        ...   \n",
       "186845   259353      AAA Batteries (4-pack)                3       2.99   \n",
       "186846   259354                      iPhone                1        700   \n",
       "186847   259355                      iPhone                1        700   \n",
       "186848   259356      34in Ultrawide Monitor                1     379.99   \n",
       "186849   259357        USB-C Charging Cable                1      11.95   \n",
       "\n",
       "            Order Date                         Purchase Address  \n",
       "0       04/19/19 08:46             917 1st St, Dallas, TX 75001  \n",
       "1                  NaN                                      NaN  \n",
       "2       04/07/19 22:30        682 Chestnut St, Boston, MA 02215  \n",
       "3       04/12/19 14:38     669 Spruce St, Los Angeles, CA 90001  \n",
       "4       04/12/19 14:38     669 Spruce St, Los Angeles, CA 90001  \n",
       "...                ...                                      ...  \n",
       "186845  09/17/19 20:56   840 Highland St, Los Angeles, CA 90001  \n",
       "186846  09/01/19 16:00  216 Dogwood St, San Francisco, CA 94016  \n",
       "186847  09/23/19 07:39     220 12th St, San Francisco, CA 94016  \n",
       "186848  09/19/19 17:30   511 Forest St, San Francisco, CA 94016  \n",
       "186849  09/30/19 00:18   250 Meadow St, San Francisco, CA 94016  \n",
       "\n",
       "[186850 rows x 6 columns]"
      ]
     },
     "execution_count": 3,
     "metadata": {},
     "output_type": "execute_result"
    }
   ],
   "source": [
    "import pandas as pd\n",
    "df=pd.read_csv(\"AllYearSales.csv\")\n",
    "df"
   ]
  },
  {
   "cell_type": "markdown",
   "id": "cc81bdca-c58d-4bd6-a9b9-66679e57ac84",
   "metadata": {},
   "source": [
    "#### **Basic Information About the Dataset**\n",
    "\n",
    "The dataset contains `186,850` rows and `6` columns. Below is a summary of the data structure:\n"
   ]
  },
  {
   "cell_type": "code",
   "execution_count": 4,
   "id": "e44da412-cb3d-4535-877b-24c331fc5b55",
   "metadata": {},
   "outputs": [
    {
     "name": "stdout",
     "output_type": "stream",
     "text": [
      "Shape of data : (186850, 6)\n",
      "--------------------------------------------------\n",
      "<class 'pandas.core.frame.DataFrame'>\n",
      "RangeIndex: 186850 entries, 0 to 186849\n",
      "Data columns (total 6 columns):\n",
      " #   Column            Non-Null Count   Dtype \n",
      "---  ------            --------------   ----- \n",
      " 0   Order ID          186305 non-null  object\n",
      " 1   Product           186305 non-null  object\n",
      " 2   Quantity Ordered  186305 non-null  object\n",
      " 3   Price Each        186305 non-null  object\n",
      " 4   Order Date        186305 non-null  object\n",
      " 5   Purchase Address  186305 non-null  object\n",
      "dtypes: object(6)\n",
      "memory usage: 8.6+ MB\n",
      "None\n",
      "--------------------------------------------------\n",
      "Count of null values in columns :\n",
      "Order ID            545\n",
      "Product             545\n",
      "Quantity Ordered    545\n",
      "Price Each          545\n",
      "Order Date          545\n",
      "Purchase Address    545\n",
      "dtype: int64 \n",
      "--------------------------------------------------\n"
     ]
    }
   ],
   "source": [
    "# function to perform basic eda operations like null value count, datatype of columns ,shape of data\n",
    "def basic_eda(pandas_dataframe_object):\n",
    "    \"\"\"\n",
    "    Docstring : This function gives basic info about the dataframe.\n",
    "    Information returned by the Function are : \n",
    "    Shape, (ColumnName, Non-Null Count, Dtype) using info() function and Null Values in the dataset using isna().sum()\n",
    "    Parameters \n",
    "    pandas_dataframe_object : Variable\n",
    "    Object of pandas dataframe in which dataset is loaded.\n",
    "    \"\"\"\n",
    "    print(f\"Shape of data : {pandas_dataframe_object.shape}\\n{'-'*50}\") \n",
    "    print(f\"{pandas_dataframe_object.info()}\\n{'-'*50}\")\n",
    "    print(f\"Count of null values in columns :\\n{pandas_dataframe_object.isna().sum()} \\n{'-'*50}\")\n",
    "basic_eda(df) "
   ]
  },
  {
   "cell_type": "markdown",
   "id": "801ebfe3-669d-44fe-9e1b-9d7d54be209b",
   "metadata": {},
   "source": [
    "#### **Sales Transactions Data Summary (2019)**\n",
    "\n",
    "This section provides a summary of the dataset, which includes sales transactions from an online electronics store.\n",
    "\n",
    "**Shape of the Data**\n",
    "\n",
    "The dataset contains **186,850 rows** and **6 columns**, with each row representing a product sold in a specific transaction.\n",
    "\n",
    "We observe that there are some rows that are completely null so we drop them from the data."
   ]
  },
  {
   "cell_type": "code",
   "execution_count": 5,
   "id": "fe7e6fee-11c3-4101-95a1-e6f78665d069",
   "metadata": {},
   "outputs": [
    {
     "name": "stdout",
     "output_type": "stream",
     "text": [
      "Shape of data : (186305, 6)\n",
      "--------------------------------------------------\n",
      "<class 'pandas.core.frame.DataFrame'>\n",
      "Index: 186305 entries, 0 to 186849\n",
      "Data columns (total 6 columns):\n",
      " #   Column            Non-Null Count   Dtype \n",
      "---  ------            --------------   ----- \n",
      " 0   Order ID          186305 non-null  object\n",
      " 1   Product           186305 non-null  object\n",
      " 2   Quantity Ordered  186305 non-null  object\n",
      " 3   Price Each        186305 non-null  object\n",
      " 4   Order Date        186305 non-null  object\n",
      " 5   Purchase Address  186305 non-null  object\n",
      "dtypes: object(6)\n",
      "memory usage: 9.9+ MB\n",
      "None\n",
      "--------------------------------------------------\n",
      "Count of null values in columns :\n",
      "Order ID            0\n",
      "Product             0\n",
      "Quantity Ordered    0\n",
      "Price Each          0\n",
      "Order Date          0\n",
      "Purchase Address    0\n",
      "dtype: int64 \n",
      "--------------------------------------------------\n"
     ]
    }
   ],
   "source": [
    "# In the dataframe there are some rows which are completely null so dropping them\n",
    "Final_data = df.dropna()\n",
    "\n",
    "basic_eda(Final_data)"
   ]
  },
  {
   "cell_type": "markdown",
   "id": "c4c8aa80-612c-4cfd-92ea-9c85c8da7061",
   "metadata": {},
   "source": [
    "#### **Sales Transactions Data Summary (2019)**\n",
    "\n",
    "This section provides an updated summary of the sales transaction dataset after data cleaning and reveals that we do not have any missing values. The dataset captures sales made at an online electronics store during 2019.\n",
    "\n",
    "Below we split the `Purchase Address` to isolate `State` and `City` to use for our analysis."
   ]
  },
  {
   "cell_type": "markdown",
   "id": "ec6a9e3b-9556-40f1-801a-fb92e2769f9e",
   "metadata": {},
   "source": [
    "#### **Data Cleaning and Preparation**\n",
    "\n",
    "In this section, we will clean the dataset by extracting relevant geographic information from the `Purchase Address` column and then removing it from the DataFrame.\n",
    "\n",
    "**Extracting City and State**\n",
    "\n",
    "To facilitate geographic analysis, we need to create separate columns for `City` and `State`. We will split the `Purchase Address` column to extract these details."
   ]
  },
  {
   "cell_type": "code",
   "execution_count": 6,
   "id": "816a43ef-ddf3-4aa7-80bd-3a19309f0fd1",
   "metadata": {},
   "outputs": [
    {
     "name": "stderr",
     "output_type": "stream",
     "text": [
      "C:\\Users\\44475\\AppData\\Local\\Temp\\ipykernel_37684\\3596567923.py:2: SettingWithCopyWarning: \n",
      "A value is trying to be set on a copy of a slice from a DataFrame.\n",
      "Try using .loc[row_indexer,col_indexer] = value instead\n",
      "\n",
      "See the caveats in the documentation: https://pandas.pydata.org/pandas-docs/stable/user_guide/indexing.html#returning-a-view-versus-a-copy\n",
      "  Final_data[[ 'City', 'State']] = Final_data['Purchase Address'].str.split(',', expand=True).loc[:,1:]\n",
      "C:\\Users\\44475\\AppData\\Local\\Temp\\ipykernel_37684\\3596567923.py:2: SettingWithCopyWarning: \n",
      "A value is trying to be set on a copy of a slice from a DataFrame.\n",
      "Try using .loc[row_indexer,col_indexer] = value instead\n",
      "\n",
      "See the caveats in the documentation: https://pandas.pydata.org/pandas-docs/stable/user_guide/indexing.html#returning-a-view-versus-a-copy\n",
      "  Final_data[[ 'City', 'State']] = Final_data['Purchase Address'].str.split(',', expand=True).loc[:,1:]\n"
     ]
    }
   ],
   "source": [
    "# For Analysis we need City and State columns\n",
    "Final_data[[ 'City', 'State']] = Final_data['Purchase Address'].str.split(',', expand=True).loc[:,1:]"
   ]
  },
  {
   "cell_type": "code",
   "execution_count": 7,
   "id": "09d7e78d-d56c-442d-a23a-7f32d92a2458",
   "metadata": {},
   "outputs": [
    {
     "data": {
      "text/html": [
       "<div>\n",
       "<style scoped>\n",
       "    .dataframe tbody tr th:only-of-type {\n",
       "        vertical-align: middle;\n",
       "    }\n",
       "\n",
       "    .dataframe tbody tr th {\n",
       "        vertical-align: top;\n",
       "    }\n",
       "\n",
       "    .dataframe thead th {\n",
       "        text-align: right;\n",
       "    }\n",
       "</style>\n",
       "<table border=\"1\" class=\"dataframe\">\n",
       "  <thead>\n",
       "    <tr style=\"text-align: right;\">\n",
       "      <th></th>\n",
       "      <th>Order ID</th>\n",
       "      <th>Product</th>\n",
       "      <th>Quantity Ordered</th>\n",
       "      <th>Price Each</th>\n",
       "      <th>Order Date</th>\n",
       "      <th>City</th>\n",
       "      <th>State</th>\n",
       "    </tr>\n",
       "  </thead>\n",
       "  <tbody>\n",
       "    <tr>\n",
       "      <th>0</th>\n",
       "      <td>176558</td>\n",
       "      <td>USB-C Charging Cable</td>\n",
       "      <td>2</td>\n",
       "      <td>11.95</td>\n",
       "      <td>04/19/19 08:46</td>\n",
       "      <td>Dallas</td>\n",
       "      <td>TX 75001</td>\n",
       "    </tr>\n",
       "    <tr>\n",
       "      <th>2</th>\n",
       "      <td>176559</td>\n",
       "      <td>Bose SoundSport Headphones</td>\n",
       "      <td>1</td>\n",
       "      <td>99.99</td>\n",
       "      <td>04/07/19 22:30</td>\n",
       "      <td>Boston</td>\n",
       "      <td>MA 02215</td>\n",
       "    </tr>\n",
       "    <tr>\n",
       "      <th>3</th>\n",
       "      <td>176560</td>\n",
       "      <td>Google Phone</td>\n",
       "      <td>1</td>\n",
       "      <td>600</td>\n",
       "      <td>04/12/19 14:38</td>\n",
       "      <td>Los Angeles</td>\n",
       "      <td>CA 90001</td>\n",
       "    </tr>\n",
       "    <tr>\n",
       "      <th>4</th>\n",
       "      <td>176560</td>\n",
       "      <td>Wired Headphones</td>\n",
       "      <td>1</td>\n",
       "      <td>11.99</td>\n",
       "      <td>04/12/19 14:38</td>\n",
       "      <td>Los Angeles</td>\n",
       "      <td>CA 90001</td>\n",
       "    </tr>\n",
       "    <tr>\n",
       "      <th>5</th>\n",
       "      <td>176561</td>\n",
       "      <td>Wired Headphones</td>\n",
       "      <td>1</td>\n",
       "      <td>11.99</td>\n",
       "      <td>04/30/19 09:27</td>\n",
       "      <td>Los Angeles</td>\n",
       "      <td>CA 90001</td>\n",
       "    </tr>\n",
       "  </tbody>\n",
       "</table>\n",
       "</div>"
      ],
      "text/plain": [
       "  Order ID                     Product Quantity Ordered Price Each  \\\n",
       "0   176558        USB-C Charging Cable                2      11.95   \n",
       "2   176559  Bose SoundSport Headphones                1      99.99   \n",
       "3   176560                Google Phone                1        600   \n",
       "4   176560            Wired Headphones                1      11.99   \n",
       "5   176561            Wired Headphones                1      11.99   \n",
       "\n",
       "       Order Date          City      State  \n",
       "0  04/19/19 08:46        Dallas   TX 75001  \n",
       "2  04/07/19 22:30        Boston   MA 02215  \n",
       "3  04/12/19 14:38   Los Angeles   CA 90001  \n",
       "4  04/12/19 14:38   Los Angeles   CA 90001  \n",
       "5  04/30/19 09:27   Los Angeles   CA 90001  "
      ]
     },
     "execution_count": 7,
     "metadata": {},
     "output_type": "execute_result"
    }
   ],
   "source": [
    "# Dropping Purchase Address from Dataframe as we have extracted City and State Columns\n",
    "Final_data = Final_data.drop('Purchase Address' , axis =1)\n",
    "\n",
    "Final_data.head()"
   ]
  },
  {
   "cell_type": "code",
   "execution_count": 8,
   "id": "fae2384e-36b8-4da7-bc55-db323a7a6821",
   "metadata": {},
   "outputs": [
    {
     "name": "stdout",
     "output_type": "stream",
     "text": [
      "Shape of data : (186305, 7)\n",
      "--------------------------------------------------\n",
      "<class 'pandas.core.frame.DataFrame'>\n",
      "Index: 186305 entries, 0 to 186849\n",
      "Data columns (total 7 columns):\n",
      " #   Column            Non-Null Count   Dtype \n",
      "---  ------            --------------   ----- \n",
      " 0   Order ID          186305 non-null  object\n",
      " 1   Product           186305 non-null  object\n",
      " 2   Quantity Ordered  186305 non-null  object\n",
      " 3   Price Each        186305 non-null  object\n",
      " 4   Order Date        186305 non-null  object\n",
      " 5   City              185950 non-null  object\n",
      " 6   State             185950 non-null  object\n",
      "dtypes: object(7)\n",
      "memory usage: 11.4+ MB\n",
      "None\n",
      "--------------------------------------------------\n",
      "Count of null values in columns :\n",
      "Order ID              0\n",
      "Product               0\n",
      "Quantity Ordered      0\n",
      "Price Each            0\n",
      "Order Date            0\n",
      "City                355\n",
      "State               355\n",
      "dtype: int64 \n",
      "--------------------------------------------------\n"
     ]
    }
   ],
   "source": [
    "basic_eda(Final_data)"
   ]
  },
  {
   "cell_type": "markdown",
   "id": "74ee1315-0a92-4c78-a010-8308078360c8",
   "metadata": {},
   "source": [
    "From above, we can see some rows in `City` and `State` columns are missing , so we have to drop those rows because they will create problems in our analysis."
   ]
  },
  {
   "cell_type": "code",
   "execution_count": 9,
   "id": "bc9b2648-686b-4899-aa21-cd4751b9243a",
   "metadata": {},
   "outputs": [],
   "source": [
    "Final_data.dropna(inplace=True)"
   ]
  },
  {
   "cell_type": "code",
   "execution_count": 10,
   "id": "1eb43d6c-683b-4f47-89e5-7bb695799732",
   "metadata": {
    "tags": []
   },
   "outputs": [
    {
     "name": "stdout",
     "output_type": "stream",
     "text": [
      "Shape of data : (185950, 7)\n",
      "--------------------------------------------------\n",
      "<class 'pandas.core.frame.DataFrame'>\n",
      "Index: 185950 entries, 0 to 186849\n",
      "Data columns (total 7 columns):\n",
      " #   Column            Non-Null Count   Dtype \n",
      "---  ------            --------------   ----- \n",
      " 0   Order ID          185950 non-null  object\n",
      " 1   Product           185950 non-null  object\n",
      " 2   Quantity Ordered  185950 non-null  object\n",
      " 3   Price Each        185950 non-null  object\n",
      " 4   Order Date        185950 non-null  object\n",
      " 5   City              185950 non-null  object\n",
      " 6   State             185950 non-null  object\n",
      "dtypes: object(7)\n",
      "memory usage: 11.3+ MB\n",
      "None\n",
      "--------------------------------------------------\n",
      "Count of null values in columns :\n",
      "Order ID            0\n",
      "Product             0\n",
      "Quantity Ordered    0\n",
      "Price Each          0\n",
      "Order Date          0\n",
      "City                0\n",
      "State               0\n",
      "dtype: int64 \n",
      "--------------------------------------------------\n"
     ]
    }
   ],
   "source": [
    "basic_eda(Final_data)"
   ]
  },
  {
   "cell_type": "markdown",
   "id": "9973622e-4e1e-4c04-b557-4b04cf2b9f9b",
   "metadata": {},
   "source": [
    "#### Unique Products in the Dataset\n",
    "\n",
    "To understand the variety of products sold, we will extract the unique product names from the `Product` column of our dataset.\n",
    "This list provides an overview of the various products included in our dataset, which can be useful for further analysis."
   ]
  },
  {
   "cell_type": "code",
   "execution_count": 11,
   "id": "6674cc79-b142-48ae-9dfc-0a794fa598da",
   "metadata": {},
   "outputs": [
    {
     "data": {
      "text/plain": [
       "array(['USB-C Charging Cable', 'Bose SoundSport Headphones',\n",
       "       'Google Phone', 'Wired Headphones', 'Macbook Pro Laptop',\n",
       "       'Lightning Charging Cable', '27in 4K Gaming Monitor',\n",
       "       'AA Batteries (4-pack)', 'Apple Airpods Headphones',\n",
       "       'AAA Batteries (4-pack)', 'iPhone', 'Flatscreen TV',\n",
       "       '27in FHD Monitor', '20in Monitor', 'LG Dryer', 'ThinkPad Laptop',\n",
       "       'Vareebadd Phone', 'LG Washing Machine', '34in Ultrawide Monitor'],\n",
       "      dtype=object)"
      ]
     },
     "execution_count": 11,
     "metadata": {},
     "output_type": "execute_result"
    }
   ],
   "source": [
    "Final_data['Product'].unique()"
   ]
  },
  {
   "cell_type": "markdown",
   "id": "34adb0e2-2ecd-49f0-8810-2264db60d4a7",
   "metadata": {},
   "source": [
    "#### **Function: product_category**\n",
    "\n",
    "This function is designed to categorize products in a DataFrame based on their names. We create the following categories based on our unique products:\n",
    "- Charging Cable,\n",
    "- Headphones,\n",
    "- Phone,\n",
    "- Laptop,\n",
    "- Monitor,\n",
    "- Batteries, \n",
    "- TV,\n",
    "- Dryer and\n",
    "- Washing Machine"
   ]
  },
  {
   "cell_type": "code",
   "execution_count": 12,
   "id": "24ef441d-18e1-4cb8-9ba6-6b9243bcf8f0",
   "metadata": {},
   "outputs": [],
   "source": [
    "def product_category(dataframe, column_name, product_name_ends_with, category_name):\n",
    "    \"\"\"\n",
    "    Docstring : This function is created 'Category' column in dataframe.\n",
    "    Parameters  \n",
    "    dataframe : Variable\n",
    "    Object of pandas dataframe of dataset\n",
    "    column_name : str enclosed in double inverted commas (\"\")\n",
    "    Name of Column where product_name is given\n",
    "    product_name_ends_with : str enclosed in double inverted commas (\"\") \n",
    "    Name of product with which it ends which will help in identifing the product\n",
    "    category_name : str enclosed in double inverted commas (\"\")\n",
    "    Category name which will be assigned to the product, if found\n",
    "    \"\"\"\n",
    "    index_list=dataframe[dataframe[column_name].str.endswith(product_name_ends_with)==True].index\n",
    "    dataframe.loc[index_list,\"Category\"]= category_name\n",
    "    print(f\"'Category' column created Successfully for Category '{category_name}'\")"
   ]
  },
  {
   "cell_type": "code",
   "execution_count": 13,
   "id": "ed3ea9ba-2d0f-48de-911e-5086b95b5163",
   "metadata": {},
   "outputs": [
    {
     "name": "stdout",
     "output_type": "stream",
     "text": [
      "'Category' column created Successfully for Category 'Charging Cable'\n"
     ]
    }
   ],
   "source": [
    "product_category(Final_data, \"Product\", \"Charging Cable\", \"Charging Cable\")"
   ]
  },
  {
   "cell_type": "code",
   "execution_count": 14,
   "id": "1a5290fe-6842-40cb-9595-a46ef26529b4",
   "metadata": {},
   "outputs": [
    {
     "name": "stdout",
     "output_type": "stream",
     "text": [
      "'Category' column created Successfully for Category 'Headphones'\n"
     ]
    }
   ],
   "source": [
    "product_category(Final_data, \"Product\", \"Headphones\", \"Headphones\")"
   ]
  },
  {
   "cell_type": "code",
   "execution_count": 15,
   "id": "ce277e77-8c4e-44fc-8eb2-b1739ccb4a42",
   "metadata": {},
   "outputs": [
    {
     "name": "stdout",
     "output_type": "stream",
     "text": [
      "'Category' column created Successfully for Category 'Phone'\n"
     ]
    }
   ],
   "source": [
    "product_category(Final_data, \"Product\", \"Phone\", \"Phone\")"
   ]
  },
  {
   "cell_type": "code",
   "execution_count": 16,
   "id": "13882c3f-6803-4d9e-9b2e-632b79044d6e",
   "metadata": {},
   "outputs": [
    {
     "name": "stdout",
     "output_type": "stream",
     "text": [
      "'Category' column created Successfully for Category 'Laptop'\n"
     ]
    }
   ],
   "source": [
    "product_category(Final_data, \"Product\", \"Laptop\", \"Laptop\")"
   ]
  },
  {
   "cell_type": "code",
   "execution_count": 17,
   "id": "dcb012a9-444c-4b76-b33d-5d5b68be1e2a",
   "metadata": {},
   "outputs": [
    {
     "name": "stdout",
     "output_type": "stream",
     "text": [
      "'Category' column created Successfully for Category 'Monitor'\n"
     ]
    }
   ],
   "source": [
    "product_category(Final_data, \"Product\", \"Monitor\", \"Monitor\")"
   ]
  },
  {
   "cell_type": "code",
   "execution_count": 18,
   "id": "f9674e4f-14be-422b-832e-b3a0f6a2d4e9",
   "metadata": {},
   "outputs": [
    {
     "name": "stdout",
     "output_type": "stream",
     "text": [
      "'Category' column created Successfully for Category 'Batteries'\n"
     ]
    }
   ],
   "source": [
    "product_category(Final_data, \"Product\", \"Batteries (4-pack)\", \"Batteries\")"
   ]
  },
  {
   "cell_type": "code",
   "execution_count": 19,
   "id": "52d82dbb-7036-4ed0-a899-d20cc78134c6",
   "metadata": {},
   "outputs": [
    {
     "name": "stdout",
     "output_type": "stream",
     "text": [
      "'Category' column created Successfully for Category 'TV'\n"
     ]
    }
   ],
   "source": [
    "product_category(Final_data, \"Product\", \"TV\", \"TV\")"
   ]
  },
  {
   "cell_type": "code",
   "execution_count": 20,
   "id": "08c24a97-59bd-4e5d-95b2-156d643cf6aa",
   "metadata": {},
   "outputs": [
    {
     "name": "stdout",
     "output_type": "stream",
     "text": [
      "'Category' column created Successfully for Category 'Dryer'\n"
     ]
    }
   ],
   "source": [
    "product_category(Final_data, \"Product\", \"Dryer\", \"Dryer\")"
   ]
  },
  {
   "cell_type": "code",
   "execution_count": 21,
   "id": "14090d71-b19d-4837-b225-acf2ad0bdbe9",
   "metadata": {},
   "outputs": [
    {
     "name": "stdout",
     "output_type": "stream",
     "text": [
      "'Category' column created Successfully for Category 'Washing Machine'\n"
     ]
    }
   ],
   "source": [
    "product_category(Final_data, \"Product\", \"Washing Machine\", \"Washing Machine\")"
   ]
  },
  {
   "cell_type": "markdown",
   "id": "59cbdf81-af05-40af-9d71-3b48b09e2cd2",
   "metadata": {},
   "source": [
    "#### **Updated DataFrame Overview**\n",
    "\n",
    "After categorizing the products, we can examine the updated DataFrame to see the changes reflected in the new `Category` column."
   ]
  },
  {
   "cell_type": "code",
   "execution_count": 22,
   "id": "d5b00f43-728a-4122-9367-908cd4f9c9ae",
   "metadata": {},
   "outputs": [
    {
     "data": {
      "text/html": [
       "<div>\n",
       "<style scoped>\n",
       "    .dataframe tbody tr th:only-of-type {\n",
       "        vertical-align: middle;\n",
       "    }\n",
       "\n",
       "    .dataframe tbody tr th {\n",
       "        vertical-align: top;\n",
       "    }\n",
       "\n",
       "    .dataframe thead th {\n",
       "        text-align: right;\n",
       "    }\n",
       "</style>\n",
       "<table border=\"1\" class=\"dataframe\">\n",
       "  <thead>\n",
       "    <tr style=\"text-align: right;\">\n",
       "      <th></th>\n",
       "      <th>Order ID</th>\n",
       "      <th>Product</th>\n",
       "      <th>Quantity Ordered</th>\n",
       "      <th>Price Each</th>\n",
       "      <th>Order Date</th>\n",
       "      <th>City</th>\n",
       "      <th>State</th>\n",
       "      <th>Category</th>\n",
       "    </tr>\n",
       "  </thead>\n",
       "  <tbody>\n",
       "    <tr>\n",
       "      <th>0</th>\n",
       "      <td>176558</td>\n",
       "      <td>USB-C Charging Cable</td>\n",
       "      <td>2</td>\n",
       "      <td>11.95</td>\n",
       "      <td>04/19/19 08:46</td>\n",
       "      <td>Dallas</td>\n",
       "      <td>TX 75001</td>\n",
       "      <td>Charging Cable</td>\n",
       "    </tr>\n",
       "    <tr>\n",
       "      <th>2</th>\n",
       "      <td>176559</td>\n",
       "      <td>Bose SoundSport Headphones</td>\n",
       "      <td>1</td>\n",
       "      <td>99.99</td>\n",
       "      <td>04/07/19 22:30</td>\n",
       "      <td>Boston</td>\n",
       "      <td>MA 02215</td>\n",
       "      <td>Headphones</td>\n",
       "    </tr>\n",
       "    <tr>\n",
       "      <th>3</th>\n",
       "      <td>176560</td>\n",
       "      <td>Google Phone</td>\n",
       "      <td>1</td>\n",
       "      <td>600</td>\n",
       "      <td>04/12/19 14:38</td>\n",
       "      <td>Los Angeles</td>\n",
       "      <td>CA 90001</td>\n",
       "      <td>Phone</td>\n",
       "    </tr>\n",
       "    <tr>\n",
       "      <th>4</th>\n",
       "      <td>176560</td>\n",
       "      <td>Wired Headphones</td>\n",
       "      <td>1</td>\n",
       "      <td>11.99</td>\n",
       "      <td>04/12/19 14:38</td>\n",
       "      <td>Los Angeles</td>\n",
       "      <td>CA 90001</td>\n",
       "      <td>Headphones</td>\n",
       "    </tr>\n",
       "    <tr>\n",
       "      <th>5</th>\n",
       "      <td>176561</td>\n",
       "      <td>Wired Headphones</td>\n",
       "      <td>1</td>\n",
       "      <td>11.99</td>\n",
       "      <td>04/30/19 09:27</td>\n",
       "      <td>Los Angeles</td>\n",
       "      <td>CA 90001</td>\n",
       "      <td>Headphones</td>\n",
       "    </tr>\n",
       "  </tbody>\n",
       "</table>\n",
       "</div>"
      ],
      "text/plain": [
       "  Order ID                     Product Quantity Ordered Price Each  \\\n",
       "0   176558        USB-C Charging Cable                2      11.95   \n",
       "2   176559  Bose SoundSport Headphones                1      99.99   \n",
       "3   176560                Google Phone                1        600   \n",
       "4   176560            Wired Headphones                1      11.99   \n",
       "5   176561            Wired Headphones                1      11.99   \n",
       "\n",
       "       Order Date          City      State        Category  \n",
       "0  04/19/19 08:46        Dallas   TX 75001  Charging Cable  \n",
       "2  04/07/19 22:30        Boston   MA 02215      Headphones  \n",
       "3  04/12/19 14:38   Los Angeles   CA 90001           Phone  \n",
       "4  04/12/19 14:38   Los Angeles   CA 90001      Headphones  \n",
       "5  04/30/19 09:27   Los Angeles   CA 90001      Headphones  "
      ]
     },
     "execution_count": 22,
     "metadata": {},
     "output_type": "execute_result"
    }
   ],
   "source": [
    "Final_data.head()"
   ]
  },
  {
   "cell_type": "markdown",
   "id": "caa67d6d-85d7-42be-ae3f-ddfbca685b6f",
   "metadata": {},
   "source": [
    "#### **Checking for Missing Values**\n",
    "\n",
    "To ensure the integrity of our dataset, it is essential to check for any missing values across the columns. This helps us confirm that our data is complete and ready for analysis."
   ]
  },
  {
   "cell_type": "code",
   "execution_count": 23,
   "id": "0df6155c-a0a4-4163-8a15-cc7c61bf9085",
   "metadata": {},
   "outputs": [
    {
     "data": {
      "text/plain": [
       "Order ID            0\n",
       "Product             0\n",
       "Quantity Ordered    0\n",
       "Price Each          0\n",
       "Order Date          0\n",
       "City                0\n",
       "State               0\n",
       "Category            0\n",
       "dtype: int64"
      ]
     },
     "execution_count": 23,
     "metadata": {},
     "output_type": "execute_result"
    }
   ],
   "source": [
    "Final_data.isnull().sum()"
   ]
  },
  {
   "cell_type": "markdown",
   "id": "0066755e-26b6-4a2d-b95f-72d90a246a62",
   "metadata": {},
   "source": [
    "We save "
   ]
  },
  {
   "cell_type": "code",
   "execution_count": 24,
   "id": "f7cd4cab-f3d5-4ccd-ba52-d99ad4183b6c",
   "metadata": {},
   "outputs": [],
   "source": [
    "Final_data.to_csv('AllYearSales.csv',index=False)"
   ]
  },
  {
   "cell_type": "code",
   "execution_count": null,
   "id": "0fc22748-73d7-4ad2-bba4-c94af1916200",
   "metadata": {},
   "outputs": [],
   "source": []
  }
 ],
 "metadata": {
  "kernelspec": {
   "display_name": "Python 3 (ipykernel)",
   "language": "python",
   "name": "python3"
  },
  "language_info": {
   "codemirror_mode": {
    "name": "ipython",
    "version": 3
   },
   "file_extension": ".py",
   "mimetype": "text/x-python",
   "name": "python",
   "nbconvert_exporter": "python",
   "pygments_lexer": "ipython3",
   "version": "3.10.9"
  }
 },
 "nbformat": 4,
 "nbformat_minor": 5
}
